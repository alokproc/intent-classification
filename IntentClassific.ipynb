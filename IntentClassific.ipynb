{
 "cells": [
  {
   "cell_type": "code",
   "execution_count": 1,
   "metadata": {},
   "outputs": [],
   "source": [
    "import pandas as pd\n",
    "import numpy as np\n",
    "import re\n",
    "import ast\n",
    "import nltk\n",
    "from nltk.corpus import stopwords\n",
    "from nltk.stem import WordNetLemmatizer\n",
    "## Uncomment if not downloaded\n",
    "# nltk.download('stopwords')\n",
    "# nltk.download('wordnet')"
   ]
  },
  {
   "cell_type": "markdown",
   "metadata": {},
   "source": [
    "### Preparing Data"
   ]
  },
  {
   "cell_type": "code",
   "execution_count": 2,
   "metadata": {},
   "outputs": [
    {
     "data": {
      "text/html": [
       "<div>\n",
       "<style scoped>\n",
       "    .dataframe tbody tr th:only-of-type {\n",
       "        vertical-align: middle;\n",
       "    }\n",
       "\n",
       "    .dataframe tbody tr th {\n",
       "        vertical-align: top;\n",
       "    }\n",
       "\n",
       "    .dataframe thead th {\n",
       "        text-align: right;\n",
       "    }\n",
       "</style>\n",
       "<table border=\"1\" class=\"dataframe\">\n",
       "  <thead>\n",
       "    <tr style=\"text-align: right;\">\n",
       "      <th></th>\n",
       "      <th>data</th>\n",
       "      <th>label</th>\n",
       "    </tr>\n",
       "  </thead>\n",
       "  <tbody>\n",
       "    <tr>\n",
       "      <th>0</th>\n",
       "      <td>{'id': 'KG0OUA', 'data': 'Good morning', 'mess...</td>\n",
       "      <td>location</td>\n",
       "    </tr>\n",
       "    <tr>\n",
       "      <th>1</th>\n",
       "      <td>{'id': 'L9DC9H', 'data': 'Location', 'message_...</td>\n",
       "      <td>whoAreYou</td>\n",
       "    </tr>\n",
       "    <tr>\n",
       "      <th>2</th>\n",
       "      <td>{'id': 'ZQR6R5', 'data': 'hi', 'message_order'...</td>\n",
       "      <td>whoAreYou</td>\n",
       "    </tr>\n",
       "    <tr>\n",
       "      <th>3</th>\n",
       "      <td>{'id': 'RH0M4E', 'data': 'Hi', 'message_order'...</td>\n",
       "      <td>greeting</td>\n",
       "    </tr>\n",
       "    <tr>\n",
       "      <th>4</th>\n",
       "      <td>{'id': 'WLVX8I', 'data': 'Hello', 'message_ord...</td>\n",
       "      <td>greeting</td>\n",
       "    </tr>\n",
       "  </tbody>\n",
       "</table>\n",
       "</div>"
      ],
      "text/plain": [
       "                                                data      label\n",
       "0  {'id': 'KG0OUA', 'data': 'Good morning', 'mess...   location\n",
       "1  {'id': 'L9DC9H', 'data': 'Location', 'message_...  whoAreYou\n",
       "2  {'id': 'ZQR6R5', 'data': 'hi', 'message_order'...  whoAreYou\n",
       "3  {'id': 'RH0M4E', 'data': 'Hi', 'message_order'...   greeting\n",
       "4  {'id': 'WLVX8I', 'data': 'Hello', 'message_ord...   greeting"
      ]
     },
     "execution_count": 2,
     "metadata": {},
     "output_type": "execute_result"
    }
   ],
   "source": [
    "chat_df = pd.read_csv('./data/TakeHome_task_data.csv')\n",
    "chat_df.head()"
   ]
  },
  {
   "cell_type": "markdown",
   "metadata": {},
   "source": [
    "In the **chat_df** Dataframe, we have a feature **data** with json objects as data with various properties. The target variable over here is **label**. The df has 2000 data samples with two columns."
   ]
  },
  {
   "cell_type": "code",
   "execution_count": 3,
   "metadata": {},
   "outputs": [
    {
     "name": "stdout",
     "output_type": "stream",
     "text": [
      "The dimensions of chat_df is (2000, 2)\n"
     ]
    },
    {
     "data": {
      "text/html": [
       "<div>\n",
       "<style scoped>\n",
       "    .dataframe tbody tr th:only-of-type {\n",
       "        vertical-align: middle;\n",
       "    }\n",
       "\n",
       "    .dataframe tbody tr th {\n",
       "        vertical-align: top;\n",
       "    }\n",
       "\n",
       "    .dataframe thead th {\n",
       "        text-align: right;\n",
       "    }\n",
       "</style>\n",
       "<table border=\"1\" class=\"dataframe\">\n",
       "  <thead>\n",
       "    <tr style=\"text-align: right;\">\n",
       "      <th></th>\n",
       "      <th>data</th>\n",
       "      <th>label</th>\n",
       "    </tr>\n",
       "  </thead>\n",
       "  <tbody>\n",
       "    <tr>\n",
       "      <th>0</th>\n",
       "      <td>{'id': 'KG0OUA', 'data': 'Good morning', 'mess...</td>\n",
       "      <td>location</td>\n",
       "    </tr>\n",
       "    <tr>\n",
       "      <th>1</th>\n",
       "      <td>{'id': 'L9DC9H', 'data': 'Location', 'message_...</td>\n",
       "      <td>whoAreYou</td>\n",
       "    </tr>\n",
       "    <tr>\n",
       "      <th>2</th>\n",
       "      <td>{'id': 'ZQR6R5', 'data': 'hi', 'message_order'...</td>\n",
       "      <td>whoAreYou</td>\n",
       "    </tr>\n",
       "    <tr>\n",
       "      <th>3</th>\n",
       "      <td>{'id': 'RH0M4E', 'data': 'Hi', 'message_order'...</td>\n",
       "      <td>greeting</td>\n",
       "    </tr>\n",
       "    <tr>\n",
       "      <th>4</th>\n",
       "      <td>{'id': 'WLVX8I', 'data': 'Hello', 'message_ord...</td>\n",
       "      <td>greeting</td>\n",
       "    </tr>\n",
       "  </tbody>\n",
       "</table>\n",
       "</div>"
      ],
      "text/plain": [
       "                                                data      label\n",
       "0  {'id': 'KG0OUA', 'data': 'Good morning', 'mess...   location\n",
       "1  {'id': 'L9DC9H', 'data': 'Location', 'message_...  whoAreYou\n",
       "2  {'id': 'ZQR6R5', 'data': 'hi', 'message_order'...  whoAreYou\n",
       "3  {'id': 'RH0M4E', 'data': 'Hi', 'message_order'...   greeting\n",
       "4  {'id': 'WLVX8I', 'data': 'Hello', 'message_ord...   greeting"
      ]
     },
     "execution_count": 3,
     "metadata": {},
     "output_type": "execute_result"
    }
   ],
   "source": [
    "print('The dimensions of chat_df is {}'.format(chat_df.shape))\n",
    "chat_df.head()"
   ]
  },
  {
   "cell_type": "markdown",
   "metadata": {},
   "source": [
    "**Next task is to work on the json data in the 'data' column of the df, and map the properties to various columns.**"
   ]
  },
  {
   "cell_type": "code",
   "execution_count": 4,
   "metadata": {},
   "outputs": [
    {
     "data": {
      "text/html": [
       "<div>\n",
       "<style scoped>\n",
       "    .dataframe tbody tr th:only-of-type {\n",
       "        vertical-align: middle;\n",
       "    }\n",
       "\n",
       "    .dataframe tbody tr th {\n",
       "        vertical-align: top;\n",
       "    }\n",
       "\n",
       "    .dataframe thead th {\n",
       "        text-align: right;\n",
       "    }\n",
       "</style>\n",
       "<table border=\"1\" class=\"dataframe\">\n",
       "  <thead>\n",
       "    <tr style=\"text-align: right;\">\n",
       "      <th></th>\n",
       "      <th>id</th>\n",
       "      <th>data</th>\n",
       "      <th>message_order</th>\n",
       "      <th>comments</th>\n",
       "    </tr>\n",
       "  </thead>\n",
       "  <tbody>\n",
       "    <tr>\n",
       "      <th>0</th>\n",
       "      <td>KG0OUA</td>\n",
       "      <td>Good morning</td>\n",
       "      <td>2</td>\n",
       "      <td>[]</td>\n",
       "    </tr>\n",
       "    <tr>\n",
       "      <th>1</th>\n",
       "      <td>L9DC9H</td>\n",
       "      <td>Location</td>\n",
       "      <td>5</td>\n",
       "      <td>[]</td>\n",
       "    </tr>\n",
       "    <tr>\n",
       "      <th>2</th>\n",
       "      <td>ZQR6R5</td>\n",
       "      <td>hi</td>\n",
       "      <td>5</td>\n",
       "      <td>[]</td>\n",
       "    </tr>\n",
       "    <tr>\n",
       "      <th>3</th>\n",
       "      <td>RH0M4E</td>\n",
       "      <td>Hi</td>\n",
       "      <td>4</td>\n",
       "      <td>[]</td>\n",
       "    </tr>\n",
       "    <tr>\n",
       "      <th>4</th>\n",
       "      <td>WLVX8I</td>\n",
       "      <td>Hello</td>\n",
       "      <td>1</td>\n",
       "      <td>[]</td>\n",
       "    </tr>\n",
       "  </tbody>\n",
       "</table>\n",
       "</div>"
      ],
      "text/plain": [
       "       id          data  message_order comments\n",
       "0  KG0OUA  Good morning              2       []\n",
       "1  L9DC9H      Location              5       []\n",
       "2  ZQR6R5            hi              5       []\n",
       "3  RH0M4E            Hi              4       []\n",
       "4  WLVX8I         Hello              1       []"
      ]
     },
     "execution_count": 4,
     "metadata": {},
     "output_type": "execute_result"
    }
   ],
   "source": [
    "data_feature_df = pd.DataFrame([ast.literal_eval(i) for i in chat_df.data.values])\n",
    "data_feature_df.head()"
   ]
  },
  {
   "cell_type": "markdown",
   "metadata": {},
   "source": [
    "[x] Drop the **data** column from the inital dataframe.\n",
    "\n",
    "[x] Drop the **comments'** column from the **data_feature_df** as it's a constant empty value throughout.\n",
    "\n",
    "[x] Concat both the columns."
   ]
  },
  {
   "cell_type": "code",
   "execution_count": 5,
   "metadata": {},
   "outputs": [
    {
     "data": {
      "text/html": [
       "<div>\n",
       "<style scoped>\n",
       "    .dataframe tbody tr th:only-of-type {\n",
       "        vertical-align: middle;\n",
       "    }\n",
       "\n",
       "    .dataframe tbody tr th {\n",
       "        vertical-align: top;\n",
       "    }\n",
       "\n",
       "    .dataframe thead th {\n",
       "        text-align: right;\n",
       "    }\n",
       "</style>\n",
       "<table border=\"1\" class=\"dataframe\">\n",
       "  <thead>\n",
       "    <tr style=\"text-align: right;\">\n",
       "      <th></th>\n",
       "      <th>label</th>\n",
       "      <th>id</th>\n",
       "      <th>data</th>\n",
       "      <th>message_order</th>\n",
       "    </tr>\n",
       "  </thead>\n",
       "  <tbody>\n",
       "    <tr>\n",
       "      <th>0</th>\n",
       "      <td>location</td>\n",
       "      <td>KG0OUA</td>\n",
       "      <td>Good morning</td>\n",
       "      <td>2</td>\n",
       "    </tr>\n",
       "    <tr>\n",
       "      <th>1</th>\n",
       "      <td>whoAreYou</td>\n",
       "      <td>L9DC9H</td>\n",
       "      <td>Location</td>\n",
       "      <td>5</td>\n",
       "    </tr>\n",
       "    <tr>\n",
       "      <th>2</th>\n",
       "      <td>whoAreYou</td>\n",
       "      <td>ZQR6R5</td>\n",
       "      <td>hi</td>\n",
       "      <td>5</td>\n",
       "    </tr>\n",
       "    <tr>\n",
       "      <th>3</th>\n",
       "      <td>greeting</td>\n",
       "      <td>RH0M4E</td>\n",
       "      <td>Hi</td>\n",
       "      <td>4</td>\n",
       "    </tr>\n",
       "    <tr>\n",
       "      <th>4</th>\n",
       "      <td>greeting</td>\n",
       "      <td>WLVX8I</td>\n",
       "      <td>Hello</td>\n",
       "      <td>1</td>\n",
       "    </tr>\n",
       "  </tbody>\n",
       "</table>\n",
       "</div>"
      ],
      "text/plain": [
       "       label      id          data  message_order\n",
       "0   location  KG0OUA  Good morning              2\n",
       "1  whoAreYou  L9DC9H      Location              5\n",
       "2  whoAreYou  ZQR6R5            hi              5\n",
       "3   greeting  RH0M4E            Hi              4\n",
       "4   greeting  WLVX8I         Hello              1"
      ]
     },
     "execution_count": 5,
     "metadata": {},
     "output_type": "execute_result"
    }
   ],
   "source": [
    "chat_df = chat_df.drop('data', axis=1)\n",
    "data_feature_df = data_feature_df.drop('comments', axis=1)\n",
    "df = pd.concat([chat_df, data_feature_df], axis=1)\n",
    "df.head()"
   ]
  },
  {
   "cell_type": "markdown",
   "metadata": {},
   "source": [
    "**Check for missing values in the dataframe**"
   ]
  },
  {
   "cell_type": "code",
   "execution_count": 6,
   "metadata": {},
   "outputs": [
    {
     "data": {
      "text/plain": [
       "label            0\n",
       "id               0\n",
       "data             0\n",
       "message_order    0\n",
       "dtype: int64"
      ]
     },
     "execution_count": 6,
     "metadata": {},
     "output_type": "execute_result"
    }
   ],
   "source": [
    "df.isnull().sum()"
   ]
  },
  {
   "cell_type": "markdown",
   "metadata": {},
   "source": [
    "**Next step is to clean the text in the 'data' feature.\n",
    "These are the following options for text preprocessing:**\n",
    "   \n",
    "   [x] Remove all alphanumeric\n",
    "    \n",
    "   [x] Remove stopwords\n",
    "    \n",
    "   [x] Lowercase\n",
    "   \n",
    "   [x] Replacing all the numbers in the text with \"Number\" string which would help while              training the model\n",
    "    \n",
    "   [ ] Misspelled words - Will cover this step later in the EDA process using edit distance\n",
    "    \n",
    "   [x] Lemmatization\n",
    "   \n",
    "   [ ] Stemming - I decided to go with Lemmatization considering the use case\n",
    "    \n",
    "   [ ] Create a stopwords list of rare words and noise - an option later regarding the chat           domain."
   ]
  },
  {
   "cell_type": "code",
   "execution_count": 7,
   "metadata": {},
   "outputs": [],
   "source": [
    "stop_words = set(stopwords.words(\"english\")) \n",
    "wordnet_lemmatizer = WordNetLemmatizer()"
   ]
  },
  {
   "cell_type": "code",
   "execution_count": 8,
   "metadata": {},
   "outputs": [],
   "source": [
    "def standardize_text(dataframe, text_column):\n",
    "    # Applying the preprocess_text function on the DataFrame column\n",
    "    dataframe[text_column] = dataframe[text_column].apply(preprocess_text)\n",
    "    return dataframe\n",
    "\n",
    "def preprocess_text(string):\n",
    "    alpha_pattern = r'[^a-zA-z\\s]'\n",
    "    string = re.sub(r\"[^\\w\\s]\", \" \", str(string))   \n",
    "    string = re.sub(r\"\\d+\", \"Number\", string) # Replacing digits by the string 'Number'\n",
    "    string = string.lower().replace(alpha_pattern, \"\") # Removing all the no-alpha characters\n",
    "    # Creating a list of words after removing the stopwords and lemmatizing the words\n",
    "    list_words = [wordnet_lemmatizer.lemmatize(item) for item in string.split(' ') if item not in stop_words]\n",
    "    return \" \".join(list_words)"
   ]
  },
  {
   "cell_type": "code",
   "execution_count": 9,
   "metadata": {},
   "outputs": [
    {
     "data": {
      "text/html": [
       "<div>\n",
       "<style scoped>\n",
       "    .dataframe tbody tr th:only-of-type {\n",
       "        vertical-align: middle;\n",
       "    }\n",
       "\n",
       "    .dataframe tbody tr th {\n",
       "        vertical-align: top;\n",
       "    }\n",
       "\n",
       "    .dataframe thead th {\n",
       "        text-align: right;\n",
       "    }\n",
       "</style>\n",
       "<table border=\"1\" class=\"dataframe\">\n",
       "  <thead>\n",
       "    <tr style=\"text-align: right;\">\n",
       "      <th></th>\n",
       "      <th>label</th>\n",
       "      <th>id</th>\n",
       "      <th>data</th>\n",
       "      <th>message_order</th>\n",
       "    </tr>\n",
       "  </thead>\n",
       "  <tbody>\n",
       "    <tr>\n",
       "      <th>0</th>\n",
       "      <td>location</td>\n",
       "      <td>KG0OUA</td>\n",
       "      <td>good morning</td>\n",
       "      <td>2</td>\n",
       "    </tr>\n",
       "    <tr>\n",
       "      <th>1</th>\n",
       "      <td>whoAreYou</td>\n",
       "      <td>L9DC9H</td>\n",
       "      <td>location</td>\n",
       "      <td>5</td>\n",
       "    </tr>\n",
       "    <tr>\n",
       "      <th>2</th>\n",
       "      <td>whoAreYou</td>\n",
       "      <td>ZQR6R5</td>\n",
       "      <td>hi</td>\n",
       "      <td>5</td>\n",
       "    </tr>\n",
       "    <tr>\n",
       "      <th>3</th>\n",
       "      <td>greeting</td>\n",
       "      <td>RH0M4E</td>\n",
       "      <td>hi</td>\n",
       "      <td>4</td>\n",
       "    </tr>\n",
       "    <tr>\n",
       "      <th>4</th>\n",
       "      <td>greeting</td>\n",
       "      <td>WLVX8I</td>\n",
       "      <td>hello</td>\n",
       "      <td>1</td>\n",
       "    </tr>\n",
       "  </tbody>\n",
       "</table>\n",
       "</div>"
      ],
      "text/plain": [
       "       label      id          data  message_order\n",
       "0   location  KG0OUA  good morning              2\n",
       "1  whoAreYou  L9DC9H      location              5\n",
       "2  whoAreYou  ZQR6R5            hi              5\n",
       "3   greeting  RH0M4E            hi              4\n",
       "4   greeting  WLVX8I         hello              1"
      ]
     },
     "execution_count": 9,
     "metadata": {},
     "output_type": "execute_result"
    }
   ],
   "source": [
    "cleaned_df = standardize_text(df, \"data\")\n",
    "cleaned_df.head()"
   ]
  },
  {
   "cell_type": "markdown",
   "metadata": {},
   "source": [
    "Defining a list of columns in an order and dropping the column **id** as it has unique values and won't being any value while training the model"
   ]
  },
  {
   "cell_type": "code",
   "execution_count": 10,
   "metadata": {},
   "outputs": [
    {
     "data": {
      "text/html": [
       "<div>\n",
       "<style scoped>\n",
       "    .dataframe tbody tr th:only-of-type {\n",
       "        vertical-align: middle;\n",
       "    }\n",
       "\n",
       "    .dataframe tbody tr th {\n",
       "        vertical-align: top;\n",
       "    }\n",
       "\n",
       "    .dataframe thead th {\n",
       "        text-align: right;\n",
       "    }\n",
       "</style>\n",
       "<table border=\"1\" class=\"dataframe\">\n",
       "  <thead>\n",
       "    <tr style=\"text-align: right;\">\n",
       "      <th></th>\n",
       "      <th>message_order</th>\n",
       "      <th>data</th>\n",
       "      <th>label</th>\n",
       "    </tr>\n",
       "  </thead>\n",
       "  <tbody>\n",
       "    <tr>\n",
       "      <th>0</th>\n",
       "      <td>2</td>\n",
       "      <td>good morning</td>\n",
       "      <td>location</td>\n",
       "    </tr>\n",
       "    <tr>\n",
       "      <th>1</th>\n",
       "      <td>5</td>\n",
       "      <td>location</td>\n",
       "      <td>whoAreYou</td>\n",
       "    </tr>\n",
       "    <tr>\n",
       "      <th>2</th>\n",
       "      <td>5</td>\n",
       "      <td>hi</td>\n",
       "      <td>whoAreYou</td>\n",
       "    </tr>\n",
       "    <tr>\n",
       "      <th>3</th>\n",
       "      <td>4</td>\n",
       "      <td>hi</td>\n",
       "      <td>greeting</td>\n",
       "    </tr>\n",
       "    <tr>\n",
       "      <th>4</th>\n",
       "      <td>1</td>\n",
       "      <td>hello</td>\n",
       "      <td>greeting</td>\n",
       "    </tr>\n",
       "  </tbody>\n",
       "</table>\n",
       "</div>"
      ],
      "text/plain": [
       "   message_order          data      label\n",
       "0              2  good morning   location\n",
       "1              5      location  whoAreYou\n",
       "2              5            hi  whoAreYou\n",
       "3              4            hi   greeting\n",
       "4              1         hello   greeting"
      ]
     },
     "execution_count": 10,
     "metadata": {},
     "output_type": "execute_result"
    }
   ],
   "source": [
    "desired_columns_order = ['message_order', 'data', 'label']\n",
    "new_df = cleaned_df[desired_columns_order]\n",
    "new_df.head()"
   ]
  },
  {
   "cell_type": "markdown",
   "metadata": {},
   "source": [
    "The **data** feature would have some empty strings after text preprocessing. We need to drop those rows."
   ]
  },
  {
   "cell_type": "code",
   "execution_count": 11,
   "metadata": {},
   "outputs": [],
   "source": [
    "preprocessed_df = new_df[new_df['data'] != '']"
   ]
  },
  {
   "cell_type": "code",
   "execution_count": 12,
   "metadata": {},
   "outputs": [
    {
     "name": "stdout",
     "output_type": "stream",
     "text": [
      "The new dimensions of our preprocessed data is (1924, 3)\n"
     ]
    }
   ],
   "source": [
    "print('The new dimensions of our preprocessed data is {}'.format(preprocessed_df.shape))"
   ]
  },
  {
   "cell_type": "code",
   "execution_count": 13,
   "metadata": {},
   "outputs": [],
   "source": [
    "# Saving the dataframe as a csv file \n",
    "preprocessed_df.to_csv(\"./data/clean_data.csv\")"
   ]
  },
  {
   "cell_type": "code",
   "execution_count": 14,
   "metadata": {},
   "outputs": [
    {
     "data": {
      "text/html": [
       "<div>\n",
       "<style scoped>\n",
       "    .dataframe tbody tr th:only-of-type {\n",
       "        vertical-align: middle;\n",
       "    }\n",
       "\n",
       "    .dataframe tbody tr th {\n",
       "        vertical-align: top;\n",
       "    }\n",
       "\n",
       "    .dataframe thead th {\n",
       "        text-align: right;\n",
       "    }\n",
       "</style>\n",
       "<table border=\"1\" class=\"dataframe\">\n",
       "  <thead>\n",
       "    <tr style=\"text-align: right;\">\n",
       "      <th></th>\n",
       "      <th>message_order</th>\n",
       "      <th>data</th>\n",
       "      <th>label</th>\n",
       "    </tr>\n",
       "  </thead>\n",
       "  <tbody>\n",
       "    <tr>\n",
       "      <th>0</th>\n",
       "      <td>2</td>\n",
       "      <td>good morning</td>\n",
       "      <td>location</td>\n",
       "    </tr>\n",
       "    <tr>\n",
       "      <th>1</th>\n",
       "      <td>5</td>\n",
       "      <td>location</td>\n",
       "      <td>whoAreYou</td>\n",
       "    </tr>\n",
       "    <tr>\n",
       "      <th>2</th>\n",
       "      <td>5</td>\n",
       "      <td>hi</td>\n",
       "      <td>whoAreYou</td>\n",
       "    </tr>\n",
       "    <tr>\n",
       "      <th>3</th>\n",
       "      <td>4</td>\n",
       "      <td>hi</td>\n",
       "      <td>greeting</td>\n",
       "    </tr>\n",
       "    <tr>\n",
       "      <th>4</th>\n",
       "      <td>1</td>\n",
       "      <td>hello</td>\n",
       "      <td>greeting</td>\n",
       "    </tr>\n",
       "  </tbody>\n",
       "</table>\n",
       "</div>"
      ],
      "text/plain": [
       "   message_order          data      label\n",
       "0              2  good morning   location\n",
       "1              5      location  whoAreYou\n",
       "2              5            hi  whoAreYou\n",
       "3              4            hi   greeting\n",
       "4              1         hello   greeting"
      ]
     },
     "execution_count": 14,
     "metadata": {},
     "output_type": "execute_result"
    }
   ],
   "source": [
    "preprocessed_df.head()"
   ]
  },
  {
   "cell_type": "markdown",
   "metadata": {},
   "source": [
    "### EDA & Feature Engineering"
   ]
  },
  {
   "cell_type": "code",
   "execution_count": 15,
   "metadata": {},
   "outputs": [],
   "source": [
    "%matplotlib inline\n",
    "from matplotlib import pyplot\n",
    "from sklearn.utils import resample\n",
    "from nltk.tokenize import RegexpTokenizer\n",
    "import seaborn as sns\n",
    "from sklearn.feature_extraction.text import CountVectorizer\n",
    "from pyxdameraulevenshtein import damerau_levenshtein_distance, normalized_damerau_levenshtein_distance"
   ]
  },
  {
   "cell_type": "code",
   "execution_count": 17,
   "metadata": {},
   "outputs": [
    {
     "data": {
      "text/html": [
       "<div>\n",
       "<style scoped>\n",
       "    .dataframe tbody tr th:only-of-type {\n",
       "        vertical-align: middle;\n",
       "    }\n",
       "\n",
       "    .dataframe tbody tr th {\n",
       "        vertical-align: top;\n",
       "    }\n",
       "\n",
       "    .dataframe thead th {\n",
       "        text-align: right;\n",
       "    }\n",
       "</style>\n",
       "<table border=\"1\" class=\"dataframe\">\n",
       "  <thead>\n",
       "    <tr style=\"text-align: right;\">\n",
       "      <th></th>\n",
       "      <th>message_order</th>\n",
       "      <th>data</th>\n",
       "      <th>label</th>\n",
       "    </tr>\n",
       "  </thead>\n",
       "  <tbody>\n",
       "    <tr>\n",
       "      <th>0</th>\n",
       "      <td>2</td>\n",
       "      <td>good morning</td>\n",
       "      <td>location</td>\n",
       "    </tr>\n",
       "    <tr>\n",
       "      <th>1</th>\n",
       "      <td>5</td>\n",
       "      <td>location</td>\n",
       "      <td>whoAreYou</td>\n",
       "    </tr>\n",
       "    <tr>\n",
       "      <th>2</th>\n",
       "      <td>5</td>\n",
       "      <td>hi</td>\n",
       "      <td>whoAreYou</td>\n",
       "    </tr>\n",
       "    <tr>\n",
       "      <th>3</th>\n",
       "      <td>4</td>\n",
       "      <td>hi</td>\n",
       "      <td>greeting</td>\n",
       "    </tr>\n",
       "    <tr>\n",
       "      <th>4</th>\n",
       "      <td>1</td>\n",
       "      <td>hello</td>\n",
       "      <td>greeting</td>\n",
       "    </tr>\n",
       "  </tbody>\n",
       "</table>\n",
       "</div>"
      ],
      "text/plain": [
       "   message_order          data      label\n",
       "0              2  good morning   location\n",
       "1              5      location  whoAreYou\n",
       "2              5            hi  whoAreYou\n",
       "3              4            hi   greeting\n",
       "4              1         hello   greeting"
      ]
     },
     "execution_count": 17,
     "metadata": {},
     "output_type": "execute_result"
    }
   ],
   "source": [
    "df = pd.read_csv('./data/clean_data.csv')\n",
    "df = df.drop(['Unnamed: 0'], axis=1)\n",
    "df.head()"
   ]
  },
  {
   "cell_type": "markdown",
   "metadata": {},
   "source": [
    "Check the distribution of samples by the classes to check for Imbalanced data"
   ]
  },
  {
   "cell_type": "code",
   "execution_count": 18,
   "metadata": {},
   "outputs": [
    {
     "data": {
      "text/plain": [
       "greeting                597\n",
       "whoAreYou               594\n",
       "notInterested           458\n",
       "dontMeetRequirements    156\n",
       "location                119\n",
       "Name: label, dtype: int64"
      ]
     },
     "execution_count": 18,
     "metadata": {},
     "output_type": "execute_result"
    }
   ],
   "source": [
    "df['label'].value_counts()"
   ]
  },
  {
   "cell_type": "markdown",
   "metadata": {},
   "source": [
    "Creating a list of tokens from the **data** feature to get insights on the frequency and kind of the words"
   ]
  },
  {
   "cell_type": "code",
   "execution_count": 19,
   "metadata": {},
   "outputs": [
    {
     "name": "stdout",
     "output_type": "stream",
     "text": [
      "[['good', 'morning'], ['location'], ['hi'], ['hi'], ['hello'], ['sir'], ['k'], ['thanks'], ['hii'], ['sir', 'dnt', 'two', 'wheeler']]\n"
     ]
    }
   ],
   "source": [
    "# Tokenizing the data column by using the nltk tokenizer\n",
    "tokenizer = RegexpTokenizer(r'\\w+')\n",
    "list_of_tokens = list(df[\"data\"].apply(tokenizer.tokenize))\n",
    "\n",
    "print(list_of_tokens[: 10])"
   ]
  },
  {
   "cell_type": "markdown",
   "metadata": {},
   "source": [
    "**total_words** is the list of total individual tokens.\n",
    " **sentence_lengths** is the list of lengths of words in the data column, we would use this for plotting.\n",
    " **vocab** is the total number of unique tokens"
   ]
  },
  {
   "cell_type": "code",
   "execution_count": 20,
   "metadata": {},
   "outputs": [
    {
     "name": "stdout",
     "output_type": "stream",
     "text": [
      "Total words is 3306, with a vocabulary size of 734\n",
      "Maximum sentence length is 13\n"
     ]
    }
   ],
   "source": [
    "total_words = [word for tokens in list_of_tokens for word in tokens]\n",
    "sentence_lengths = [len(tokens) for tokens in list_of_tokens]\n",
    "vocab = sorted(list(set(total_words)))\n",
    "\n",
    "print(\"Total words is {}, with a vocabulary size of {}\".format(len(total_words), len(vocab)))\n",
    "print(\"Maximum sentence length is {}\".format(max(sentence_lengths)))"
   ]
  },
  {
   "cell_type": "markdown",
   "metadata": {},
   "source": [
    "Plotted the distribution of the sentence length to get an idea for futher operations to extract features from text"
   ]
  },
  {
   "cell_type": "code",
   "execution_count": 21,
   "metadata": {},
   "outputs": [
    {
     "data": {
      "image/png": "[encoded data removed]",
      "text/plain": [
       "<Figure size 360x360 with 1 Axes>"
      ]
     },
     "metadata": {
      "needs_background": "light"
     },
     "output_type": "display_data"
    }
   ],
   "source": [
    "fig = pyplot.figure(figsize=(5, 5)) \n",
    "pyplot.xlabel('Sentence length')\n",
    "pyplot.ylabel('Number of sentences')\n",
    "pyplot.hist(sentence_lengths)\n",
    "pyplot.show()"
   ]
  },
  {
   "cell_type": "markdown",
   "metadata": {},
   "source": [
    "We can notice that there are similar amount of samples in our data by **message_order**"
   ]
  },
  {
   "cell_type": "code",
   "execution_count": 22,
   "metadata": {},
   "outputs": [
    {
     "data": {
      "text/plain": [
       "<matplotlib.axes._subplots.AxesSubplot at 0x7fe970e83940>"
      ]
     },
     "execution_count": 22,
     "metadata": {},
     "output_type": "execute_result"
    },
    {
     "data": {
      "image/png": "[encoded data removed]",
      "text/plain": [
       "<Figure size 432x288 with 1 Axes>"
      ]
     },
     "metadata": {
      "needs_background": "light"
     },
     "output_type": "display_data"
    }
   ],
   "source": [
    "sns.countplot(x='message_order', data=df)"
   ]
  },
  {
   "cell_type": "markdown",
   "metadata": {},
   "source": [
    "Will upsample the **location** and **dontMeetRequirements** classes using the suitable operations"
   ]
  },
  {
   "cell_type": "code",
   "execution_count": 23,
   "metadata": {},
   "outputs": [
    {
     "data": {
      "text/plain": [
       "<matplotlib.axes._subplots.AxesSubplot at 0x7fe9707590b8>"
      ]
     },
     "execution_count": 23,
     "metadata": {},
     "output_type": "execute_result"
    },
    {
     "data": {
      "image/png": "[encoded data removed]",
      "text/plain": [
       "<Figure size 432x288 with 1 Axes>"
      ]
     },
     "metadata": {
      "needs_background": "light"
     },
     "output_type": "display_data"
    }
   ],
   "source": [
    "sns.countplot(x='label', data=df)"
   ]
  },
  {
   "cell_type": "markdown",
   "metadata": {},
   "source": [
    "We can conclude from this plot that the labels are similarly distributed along the **message_order** feature respectively. Helped to break the myth I had about high coorelation of certain labels with message_order."
   ]
  },
  {
   "cell_type": "code",
   "execution_count": 24,
   "metadata": {},
   "outputs": [
    {
     "data": {
      "text/plain": [
       "<matplotlib.axes._subplots.AxesSubplot at 0x7fe9706b6898>"
      ]
     },
     "execution_count": 24,
     "metadata": {},
     "output_type": "execute_result"
    },
    {
     "data": {
      "image/png": "[encoded data removed]",
      "text/plain": [
       "<Figure size 432x288 with 1 Axes>"
      ]
     },
     "metadata": {
      "needs_background": "light"
     },
     "output_type": "display_data"
    }
   ],
   "source": [
    "sns.countplot('message_order',hue='label',data=df)"
   ]
  },
  {
   "cell_type": "markdown",
   "metadata": {},
   "source": [
    "Created a function to get the most frequent **n-grams** and the list of words."
   ]
  },
  {
   "cell_type": "code",
   "execution_count": 25,
   "metadata": {},
   "outputs": [],
   "source": [
    "def get_most_common_n_grams(data, n=10):\n",
    "    # Using CountVectorizer and considering bi-grams to create bow data and manipulating it\n",
    "    count_vec = CountVectorizer(ngram_range=(1, 2)).fit(data)\n",
    "    bag_of_words = count_vec.transform(data)\n",
    "    sum_of_grams = bag_of_words.sum(axis=0) # Number of occurences\n",
    "    list_of_words = [word for word, _ in count_vec.vocabulary_.items()]\n",
    "    n_grams_freq = [(word, sum_of_grams[0, idx]) for word, idx in count_vec.vocabulary_.items()]\n",
    "    n_grams_freq = sorted(n_grams_freq, key = lambda x: x[1], reverse=True)\n",
    "    return n_grams_freq[: n], list_of_words"
   ]
  },
  {
   "cell_type": "markdown",
   "metadata": {},
   "source": [
    "Here, we get an idea of the most common words in our data"
   ]
  },
  {
   "cell_type": "code",
   "execution_count": 26,
   "metadata": {},
   "outputs": [
    {
     "name": "stdout",
     "output_type": "stream",
     "text": [
      " Total number of n-grams including uni-grams and bi-grams is 1655\n",
      "['good', 'morning', 'good morning', 'location', 'hi', 'hello', 'sir', 'thanks', 'hii', 'dnt']\n"
     ]
    },
    {
     "data": {
      "text/html": [
       "<div>\n",
       "<style scoped>\n",
       "    .dataframe tbody tr th:only-of-type {\n",
       "        vertical-align: middle;\n",
       "    }\n",
       "\n",
       "    .dataframe tbody tr th {\n",
       "        vertical-align: top;\n",
       "    }\n",
       "\n",
       "    .dataframe thead th {\n",
       "        text-align: right;\n",
       "    }\n",
       "</style>\n",
       "<table border=\"1\" class=\"dataframe\">\n",
       "  <thead>\n",
       "    <tr style=\"text-align: right;\">\n",
       "      <th></th>\n",
       "      <th>words</th>\n",
       "      <th>frequency</th>\n",
       "    </tr>\n",
       "  </thead>\n",
       "  <tbody>\n",
       "    <tr>\n",
       "      <th>0</th>\n",
       "      <td>hi</td>\n",
       "      <td>320</td>\n",
       "    </tr>\n",
       "    <tr>\n",
       "      <th>1</th>\n",
       "      <td>ok</td>\n",
       "      <td>308</td>\n",
       "    </tr>\n",
       "    <tr>\n",
       "      <th>2</th>\n",
       "      <td>sir</td>\n",
       "      <td>111</td>\n",
       "    </tr>\n",
       "    <tr>\n",
       "      <th>3</th>\n",
       "      <td>bike</td>\n",
       "      <td>102</td>\n",
       "    </tr>\n",
       "    <tr>\n",
       "      <th>4</th>\n",
       "      <td>hello</td>\n",
       "      <td>96</td>\n",
       "    </tr>\n",
       "  </tbody>\n",
       "</table>\n",
       "</div>"
      ],
      "text/plain": [
       "   words  frequency\n",
       "0     hi        320\n",
       "1     ok        308\n",
       "2    sir        111\n",
       "3   bike        102\n",
       "4  hello         96"
      ]
     },
     "execution_count": 26,
     "metadata": {},
     "output_type": "execute_result"
    }
   ],
   "source": [
    "common_n_grams, list_of_words  = get_most_common_n_grams(df['data'], 30)\n",
    "top_words_df = pd.DataFrame(common_n_grams, columns=['words', 'frequency'])\n",
    "print(\" Total number of n-grams including uni-grams and bi-grams is {}\".format(len(list_of_words)))\n",
    "print(list_of_words[:10])\n",
    "top_words_df.head()"
   ]
  },
  {
   "cell_type": "markdown",
   "metadata": {},
   "source": [
    "Over here, in the **get_dict_tokens** function I am creating a dictionary of tokens with a token as a key and the similar tokens as values. The idea behind this is to replace the similar tokens by the token key to reduce the dimensionality of the features for capture the true signal of the data. Works better and better when data increases."
   ]
  },
  {
   "cell_type": "code",
   "execution_count": 27,
   "metadata": {},
   "outputs": [],
   "source": [
    "def get_dict_tokens(list_of_tokens):\n",
    "    dict_of_tokens = {}\n",
    "    for token in list_of_tokens:\n",
    "        if token not in dict_of_tokens:\n",
    "            for key in dict_of_tokens:\n",
    "                # After various iterations, I figured out normalized damerau levenshtein\n",
    "                # distance works the best for this data\n",
    "                if normalized_damerau_levenshtein_distance(key, token) <= 0.3:\n",
    "                    dict_of_tokens[key].add(token)\n",
    "                    break;\n",
    "            else:\n",
    "                dict_of_tokens[token] = {token}\n",
    "    return dict_of_tokens"
   ]
  },
  {
   "cell_type": "code",
   "execution_count": 28,
   "metadata": {},
   "outputs": [
    {
     "name": "stdout",
     "output_type": "stream",
     "text": [
      "Feature Reduction: 1212 vs 1655\n",
      "----\n"
     ]
    },
    {
     "data": {
      "text/plain": [
       "[('good', {'food', 'good'}),\n",
       " ('morning', {'morning', 'working'}),\n",
       " ('good morning', {'gd morning', 'good morning', 'good mrng', 'gud morning'}),\n",
       " ('location',\n",
       "  {'location', 'location wr', 'loction', 'na location', 'ur location'}),\n",
       " ('hi', {'hi'}),\n",
       " ('hello', {'hallo', 'helli', 'hello', 'helloo', 'hellooo', 'helo'}),\n",
       " ('sir', {'sir'}),\n",
       " ('thanks', {'thank', 'thank sm', 'thanks', 'thanku', 'thaynku', 'thnaks'}),\n",
       " ('hii', {'haii', 'hii', 'hiii', 'hiio'}),\n",
       " ('dnt', {'dnt', 'dont'}),\n",
       " ('two', {'two'}),\n",
       " ('wheeler', {'wheeler'}),\n",
       " ('sir dnt', {'sir dl', 'sir dnt', 'sir want', 'sry dnt'}),\n",
       " ('dnt two', {'dnt two', 'dnt txt'}),\n",
       " ('two wheeler', {'two wheeler', 'twowheller'}),\n",
       " ('hlo', {'halo', 'hlo', 'hloo'})]"
      ]
     },
     "execution_count": 28,
     "metadata": {},
     "output_type": "execute_result"
    }
   ],
   "source": [
    "dict_of_tokens = get_dict_tokens(list_of_words)\n",
    "\n",
    "print('Feature Reduction: {} vs {}'.format(len(dict_of_tokens.keys()), len(list_of_words)))\n",
    "print('----')\n",
    "list(dict_of_tokens.items())[: 16]"
   ]
  },
  {
   "cell_type": "markdown",
   "metadata": {},
   "source": [
    "Now, we will have to replace the words in the **dict_of_tokens** dictionary values by it's key token."
   ]
  },
  {
   "cell_type": "markdown",
   "metadata": {},
   "source": [
    "In the **replace_text** function, I first check if it's a unigram or a bi-gram and replace it with the suitable string. If the length of the string is more than two, I split it and search for the ideal matches for the tokens and then join it into a single string."
   ]
  },
  {
   "cell_type": "code",
   "execution_count": 29,
   "metadata": {},
   "outputs": [],
   "source": [
    "def replace_text(string):\n",
    "    if len(string) == 2 or len(string) == 1:\n",
    "        matched_string = replace_one_and_bi_gram(string)\n",
    "        return matched_string\n",
    "    tokens = string.split(' ')\n",
    "    replaced_tokens = []\n",
    "    for word in tokens:\n",
    "        if word in dict_of_tokens: # if present as a key, return the dict key\n",
    "            replaced_tokens.append(word)\n",
    "        else:\n",
    "            for key_token, matches in dict_of_tokens.items(): # Searching through the dict values\n",
    "                if word in matches:\n",
    "                    replaced_tokens.append(key_token)\n",
    "    if len(replaced_tokens) == 0: # If any of the tokens are not replaceable, return the org string\n",
    "        return string\n",
    "    return ' '.join(replaced_tokens)"
   ]
  },
  {
   "cell_type": "code",
   "execution_count": 30,
   "metadata": {},
   "outputs": [],
   "source": [
    "def replace_one_and_bi_gram(string):\n",
    "    if string in dict_of_tokens: # if present as a key, return the dict key\n",
    "        return string\n",
    "    else:\n",
    "        for key_token, matches in dict_of_tokens.items(): # Searching through the dict values\n",
    "            if string in matches:\n",
    "                return key_token"
   ]
  },
  {
   "cell_type": "code",
   "execution_count": 31,
   "metadata": {},
   "outputs": [],
   "source": [
    "# Applying the replace_text function on the 'data' column\n",
    "df['data'] = df['data'].apply(replace_text)"
   ]
  },
  {
   "cell_type": "code",
   "execution_count": 32,
   "metadata": {},
   "outputs": [],
   "source": [
    "np.save('dict_of_tokens.npy', dict_of_tokens)"
   ]
  },
  {
   "cell_type": "code",
   "execution_count": 33,
   "metadata": {},
   "outputs": [
    {
     "data": {
      "text/html": [
       "<div>\n",
       "<style scoped>\n",
       "    .dataframe tbody tr th:only-of-type {\n",
       "        vertical-align: middle;\n",
       "    }\n",
       "\n",
       "    .dataframe tbody tr th {\n",
       "        vertical-align: top;\n",
       "    }\n",
       "\n",
       "    .dataframe thead th {\n",
       "        text-align: right;\n",
       "    }\n",
       "</style>\n",
       "<table border=\"1\" class=\"dataframe\">\n",
       "  <thead>\n",
       "    <tr style=\"text-align: right;\">\n",
       "      <th></th>\n",
       "      <th>message_order</th>\n",
       "      <th>data</th>\n",
       "      <th>label</th>\n",
       "    </tr>\n",
       "  </thead>\n",
       "  <tbody>\n",
       "    <tr>\n",
       "      <th>0</th>\n",
       "      <td>2</td>\n",
       "      <td>good morning</td>\n",
       "      <td>location</td>\n",
       "    </tr>\n",
       "    <tr>\n",
       "      <th>1</th>\n",
       "      <td>5</td>\n",
       "      <td>location</td>\n",
       "      <td>whoAreYou</td>\n",
       "    </tr>\n",
       "    <tr>\n",
       "      <th>2</th>\n",
       "      <td>5</td>\n",
       "      <td>hi</td>\n",
       "      <td>whoAreYou</td>\n",
       "    </tr>\n",
       "    <tr>\n",
       "      <th>3</th>\n",
       "      <td>4</td>\n",
       "      <td>hi</td>\n",
       "      <td>greeting</td>\n",
       "    </tr>\n",
       "    <tr>\n",
       "      <th>4</th>\n",
       "      <td>1</td>\n",
       "      <td>hello</td>\n",
       "      <td>greeting</td>\n",
       "    </tr>\n",
       "  </tbody>\n",
       "</table>\n",
       "</div>"
      ],
      "text/plain": [
       "   message_order          data      label\n",
       "0              2  good morning   location\n",
       "1              5      location  whoAreYou\n",
       "2              5            hi  whoAreYou\n",
       "3              4            hi   greeting\n",
       "4              1         hello   greeting"
      ]
     },
     "execution_count": 33,
     "metadata": {},
     "output_type": "execute_result"
    }
   ],
   "source": [
    "# Dropping the null values and assigning a new DataFrame\n",
    "new_df = df.dropna(how='any',axis=0)\n",
    "new_df.head()"
   ]
  },
  {
   "cell_type": "code",
   "execution_count": 34,
   "metadata": {},
   "outputs": [
    {
     "data": {
      "text/plain": [
       "greeting                589\n",
       "whoAreYou               573\n",
       "notInterested           446\n",
       "dontMeetRequirements    154\n",
       "location                116\n",
       "Name: label, dtype: int64"
      ]
     },
     "execution_count": 34,
     "metadata": {},
     "output_type": "execute_result"
    }
   ],
   "source": [
    "new_df['label'].value_counts()"
   ]
  },
  {
   "cell_type": "markdown",
   "metadata": {},
   "source": [
    "We have to solve class imbalance problem for two labels and as well as I was going through the data, I noticed that a lot of common words are distributed just all over the classes, and those words were wrongly tagged as certain labels. So, I would drop the most common words with a high threshold from the minority labels and then upsample the minority classes. As well as I have decided to upsample the majority class a bit with least common words."
   ]
  },
  {
   "cell_type": "code",
   "execution_count": 35,
   "metadata": {},
   "outputs": [],
   "source": [
    "new_minority_df = new_df[(new_df['label'] == 'location') | (new_df['label'] == 'dontMeetRequirements')]"
   ]
  },
  {
   "cell_type": "markdown",
   "metadata": {},
   "source": [
    "Using bitwise conditions here to get data according to labels"
   ]
  },
  {
   "cell_type": "code",
   "execution_count": 36,
   "metadata": {},
   "outputs": [],
   "source": [
    "new_majority_df = new_df[(new_df['label'] != 'location') & (new_df['label'] != 'dontMeetRequirements')]"
   ]
  },
  {
   "cell_type": "markdown",
   "metadata": {},
   "source": [
    "**top_common_words** is the array of most frequent 30 words"
   ]
  },
  {
   "cell_type": "code",
   "execution_count": 37,
   "metadata": {},
   "outputs": [
    {
     "data": {
      "text/plain": [
       "array(['hi', 'ok', 'sir', 'bike', 'hello', 'hii', 'hai', 'location',\n",
       "       'job', 'good', 'license', 'morning', 'licence', 'hiii',\n",
       "       'good morning', 'sorry', 'learning', 'thanks', 'nahi', 'kk',\n",
       "       'interested', 'okay', 'mere', 'thank', 'office', 'llr', 'nhi',\n",
       "       'hlo', 'address', 'pas'], dtype=object)"
      ]
     },
     "execution_count": 37,
     "metadata": {},
     "output_type": "execute_result"
    }
   ],
   "source": [
    "top_common_words = np.array(top_words_df['words'])\n",
    "top_common_words"
   ]
  },
  {
   "cell_type": "markdown",
   "metadata": {},
   "source": [
    "**minority_df** is the data without most common words with labels **locations** and **dontMeetRequirements**"
   ]
  },
  {
   "cell_type": "code",
   "execution_count": 38,
   "metadata": {},
   "outputs": [],
   "source": [
    "minority_df = new_minority_df[~new_minority_df['data'].isin(top_common_words)]"
   ]
  },
  {
   "cell_type": "markdown",
   "metadata": {},
   "source": [
    "**non_common_majority_df** is the data without most common words with labels other than 'locations' and 'dontMeetRequirements'"
   ]
  },
  {
   "cell_type": "code",
   "execution_count": 117,
   "metadata": {},
   "outputs": [],
   "source": [
    "non_common_majority_df = new_majority_df[~new_majority_df['data'].isin(top_common_words)]"
   ]
  },
  {
   "cell_type": "code",
   "execution_count": 135,
   "metadata": {},
   "outputs": [],
   "source": [
    "words = np.array(list_of_words)"
   ]
  },
  {
   "cell_type": "code",
   "execution_count": 136,
   "metadata": {},
   "outputs": [],
   "source": [
    "common_majority_df = new_majority_df[new_majority_df['data'].isin(words)]"
   ]
  },
  {
   "cell_type": "markdown",
   "metadata": {},
   "source": [
    "Upsampling the data "
   ]
  },
  {
   "cell_type": "code",
   "execution_count": 137,
   "metadata": {},
   "outputs": [],
   "source": [
    "new_minority_upsampled = resample(minority_df, \n",
    "                                 replace=True,     # sample with replacement\n",
    "                                 n_samples=700,    # to match majority class\n",
    "                                 random_state=123) "
   ]
  },
  {
   "cell_type": "code",
   "execution_count": 138,
   "metadata": {},
   "outputs": [
    {
     "data": {
      "text/html": [
       "<div>\n",
       "<style scoped>\n",
       "    .dataframe tbody tr th:only-of-type {\n",
       "        vertical-align: middle;\n",
       "    }\n",
       "\n",
       "    .dataframe tbody tr th {\n",
       "        vertical-align: top;\n",
       "    }\n",
       "\n",
       "    .dataframe thead th {\n",
       "        text-align: right;\n",
       "    }\n",
       "</style>\n",
       "<table border=\"1\" class=\"dataframe\">\n",
       "  <thead>\n",
       "    <tr style=\"text-align: right;\">\n",
       "      <th></th>\n",
       "      <th>message_order</th>\n",
       "      <th>data</th>\n",
       "      <th>label</th>\n",
       "    </tr>\n",
       "  </thead>\n",
       "  <tbody>\n",
       "    <tr>\n",
       "      <th>1776</th>\n",
       "      <td>5</td>\n",
       "      <td>thanks valuable time sir</td>\n",
       "      <td>dontMeetRequirements</td>\n",
       "    </tr>\n",
       "    <tr>\n",
       "      <th>1082</th>\n",
       "      <td>5</td>\n",
       "      <td>vehicle</td>\n",
       "      <td>dontMeetRequirements</td>\n",
       "    </tr>\n",
       "    <tr>\n",
       "      <th>1495</th>\n",
       "      <td>3</td>\n",
       "      <td>क ट  ह</td>\n",
       "      <td>dontMeetRequirements</td>\n",
       "    </tr>\n",
       "    <tr>\n",
       "      <th>1560</th>\n",
       "      <td>0</td>\n",
       "      <td>hi friend</td>\n",
       "      <td>location</td>\n",
       "    </tr>\n",
       "    <tr>\n",
       "      <th>1654</th>\n",
       "      <td>0</td>\n",
       "      <td>area</td>\n",
       "      <td>location</td>\n",
       "    </tr>\n",
       "  </tbody>\n",
       "</table>\n",
       "</div>"
      ],
      "text/plain": [
       "      message_order                      data                 label\n",
       "1776              5  thanks valuable time sir  dontMeetRequirements\n",
       "1082              5                   vehicle  dontMeetRequirements\n",
       "1495              3                   क ट  ह   dontMeetRequirements\n",
       "1560              0                 hi friend              location\n",
       "1654              0                      area              location"
      ]
     },
     "execution_count": 138,
     "metadata": {},
     "output_type": "execute_result"
    }
   ],
   "source": [
    "new_minority_upsampled.head()"
   ]
  },
  {
   "cell_type": "code",
   "execution_count": 139,
   "metadata": {},
   "outputs": [],
   "source": [
    "non_common_upsampled = resample(non_common_majority_df, \n",
    "                                 replace=True,     # sample with replacement\n",
    "                                 n_samples=1000,    \n",
    "                                 random_state=123) "
   ]
  },
  {
   "cell_type": "code",
   "execution_count": 140,
   "metadata": {},
   "outputs": [
    {
     "data": {
      "text/html": [
       "<div>\n",
       "<style scoped>\n",
       "    .dataframe tbody tr th:only-of-type {\n",
       "        vertical-align: middle;\n",
       "    }\n",
       "\n",
       "    .dataframe tbody tr th {\n",
       "        vertical-align: top;\n",
       "    }\n",
       "\n",
       "    .dataframe thead th {\n",
       "        text-align: right;\n",
       "    }\n",
       "</style>\n",
       "<table border=\"1\" class=\"dataframe\">\n",
       "  <thead>\n",
       "    <tr style=\"text-align: right;\">\n",
       "      <th></th>\n",
       "      <th>message_order</th>\n",
       "      <th>data</th>\n",
       "      <th>label</th>\n",
       "    </tr>\n",
       "  </thead>\n",
       "  <tbody>\n",
       "    <tr>\n",
       "      <th>1</th>\n",
       "      <td>5</td>\n",
       "      <td>location</td>\n",
       "      <td>whoAreYou</td>\n",
       "    </tr>\n",
       "    <tr>\n",
       "      <th>2</th>\n",
       "      <td>5</td>\n",
       "      <td>hi</td>\n",
       "      <td>whoAreYou</td>\n",
       "    </tr>\n",
       "    <tr>\n",
       "      <th>3</th>\n",
       "      <td>4</td>\n",
       "      <td>hi</td>\n",
       "      <td>greeting</td>\n",
       "    </tr>\n",
       "    <tr>\n",
       "      <th>4</th>\n",
       "      <td>1</td>\n",
       "      <td>hello</td>\n",
       "      <td>greeting</td>\n",
       "    </tr>\n",
       "    <tr>\n",
       "      <th>5</th>\n",
       "      <td>3</td>\n",
       "      <td>sir</td>\n",
       "      <td>whoAreYou</td>\n",
       "    </tr>\n",
       "  </tbody>\n",
       "</table>\n",
       "</div>"
      ],
      "text/plain": [
       "   message_order      data      label\n",
       "1              5  location  whoAreYou\n",
       "2              5        hi  whoAreYou\n",
       "3              4        hi   greeting\n",
       "4              1     hello   greeting\n",
       "5              3       sir  whoAreYou"
      ]
     },
     "execution_count": 140,
     "metadata": {},
     "output_type": "execute_result"
    }
   ],
   "source": [
    "df_upsampled = pd.concat([common_majority_df, non_common_upsampled, new_minority_upsampled])\n",
    "df_upsampled.head()"
   ]
  },
  {
   "cell_type": "markdown",
   "metadata": {},
   "source": [
    "Reseting the index after concatenating before saving the dataframe as a csv"
   ]
  },
  {
   "cell_type": "code",
   "execution_count": 141,
   "metadata": {},
   "outputs": [],
   "source": [
    "df_upsampled.reset_index(drop=True, inplace=True)"
   ]
  },
  {
   "cell_type": "code",
   "execution_count": 142,
   "metadata": {},
   "outputs": [],
   "source": [
    "df_upsampled.to_csv(\"./data/prepared_data_post_feature_eng.csv\")"
   ]
  },
  {
   "cell_type": "markdown",
   "metadata": {},
   "source": [
    "### Feature Extraction & Training the Model"
   ]
  },
  {
   "cell_type": "code",
   "execution_count": 143,
   "metadata": {},
   "outputs": [],
   "source": [
    "from sklearn.feature_extraction.text import TfidfVectorizer\n",
    "import sklearn\n",
    "from sklearn.model_selection import train_test_split\n",
    "from sklearn.model_selection import KFold\n",
    "from sklearn.model_selection import cross_val_score\n",
    "from sklearn.metrics import classification_report\n",
    "from sklearn.metrics import confusion_matrix\n",
    "from sklearn.metrics import accuracy_score\n",
    "from sklearn.ensemble import RandomForestClassifier\n",
    "from sklearn.ensemble import ExtraTreesClassifier\n",
    "import pickle\n",
    "from warnings import simplefilter\n",
    "# ignore all future warnings\n",
    "simplefilter(action='ignore', category=FutureWarning)"
   ]
  },
  {
   "cell_type": "code",
   "execution_count": 144,
   "metadata": {},
   "outputs": [
    {
     "name": "stdout",
     "output_type": "stream",
     "text": [
      "The dimensions of the data is (2999, 3)\n"
     ]
    },
    {
     "data": {
      "text/html": [
       "<div>\n",
       "<style scoped>\n",
       "    .dataframe tbody tr th:only-of-type {\n",
       "        vertical-align: middle;\n",
       "    }\n",
       "\n",
       "    .dataframe tbody tr th {\n",
       "        vertical-align: top;\n",
       "    }\n",
       "\n",
       "    .dataframe thead th {\n",
       "        text-align: right;\n",
       "    }\n",
       "</style>\n",
       "<table border=\"1\" class=\"dataframe\">\n",
       "  <thead>\n",
       "    <tr style=\"text-align: right;\">\n",
       "      <th></th>\n",
       "      <th>message_order</th>\n",
       "      <th>data</th>\n",
       "      <th>label</th>\n",
       "    </tr>\n",
       "  </thead>\n",
       "  <tbody>\n",
       "    <tr>\n",
       "      <th>0</th>\n",
       "      <td>5</td>\n",
       "      <td>location</td>\n",
       "      <td>whoAreYou</td>\n",
       "    </tr>\n",
       "    <tr>\n",
       "      <th>1</th>\n",
       "      <td>5</td>\n",
       "      <td>hi</td>\n",
       "      <td>whoAreYou</td>\n",
       "    </tr>\n",
       "    <tr>\n",
       "      <th>2</th>\n",
       "      <td>4</td>\n",
       "      <td>hi</td>\n",
       "      <td>greeting</td>\n",
       "    </tr>\n",
       "    <tr>\n",
       "      <th>3</th>\n",
       "      <td>1</td>\n",
       "      <td>hello</td>\n",
       "      <td>greeting</td>\n",
       "    </tr>\n",
       "    <tr>\n",
       "      <th>4</th>\n",
       "      <td>3</td>\n",
       "      <td>sir</td>\n",
       "      <td>whoAreYou</td>\n",
       "    </tr>\n",
       "  </tbody>\n",
       "</table>\n",
       "</div>"
      ],
      "text/plain": [
       "   message_order      data      label\n",
       "0              5  location  whoAreYou\n",
       "1              5        hi  whoAreYou\n",
       "2              4        hi   greeting\n",
       "3              1     hello   greeting\n",
       "4              3       sir  whoAreYou"
      ]
     },
     "execution_count": 144,
     "metadata": {},
     "output_type": "execute_result"
    }
   ],
   "source": [
    "df = pd.read_csv('./data/prepared_data_post_feature_eng.csv')\n",
    "df = df.drop(['Unnamed: 0'], axis=1)\n",
    "print(\"The dimensions of the data is {}\".format(df.shape))\n",
    "df.head()"
   ]
  },
  {
   "cell_type": "code",
   "execution_count": 145,
   "metadata": {},
   "outputs": [],
   "source": [
    "df = df.dropna(how='any',axis=0)\n",
    "df.reset_index(drop=True, inplace=True)"
   ]
  },
  {
   "cell_type": "code",
   "execution_count": 146,
   "metadata": {},
   "outputs": [],
   "source": [
    "# Getting the data feature values for calculating tf-idf values later\n",
    "text_data = np.array(df['data'])"
   ]
  },
  {
   "cell_type": "code",
   "execution_count": 147,
   "metadata": {},
   "outputs": [],
   "source": [
    "tf_vec = TfidfVectorizer(min_df=0., max_df=1., use_idf=True, ngram_range=(1,2))\n",
    "tf_matrix = tf_vec.fit(text_data)\n",
    "# Saving the tfidf model to use it on the test data\n",
    "pickle.dump(tf_matrix, open(\"tfidf.pkl\", \"wb\"))\n",
    "tfi_matrix = tf_vec.transform(text_data)\n",
    "tfi_matrix = tfi_matrix.toarray()\n",
    "\n",
    "vocab = tf_vec.get_feature_names()\n",
    "X_train_tfidf = pd.DataFrame(np.round(tfi_matrix, 2), columns=vocab)"
   ]
  },
  {
   "cell_type": "code",
   "execution_count": 148,
   "metadata": {},
   "outputs": [
    {
     "data": {
      "text/plain": [
       "(2999, 1222)"
      ]
     },
     "execution_count": 148,
     "metadata": {},
     "output_type": "execute_result"
    }
   ],
   "source": [
    "X_train_tfidf.shape"
   ]
  },
  {
   "cell_type": "code",
   "execution_count": 149,
   "metadata": {},
   "outputs": [],
   "source": [
    "X_train_tfidf = X_train_tfidf.join(df['message_order'])"
   ]
  },
  {
   "cell_type": "code",
   "execution_count": 150,
   "metadata": {},
   "outputs": [],
   "source": [
    "#  Iterabled through various Machine Learning models and concluded that\n",
    "#  Decision Trees based models worked really well to learn the data.Hence, went with the\n",
    "#  ensembles.'''\n",
    "ensembles = []\n",
    "ensembles.append(('RF', RandomForestClassifier()))\n",
    "ensembles.append(('ET', ExtraTreesClassifier()))\n",
    "num_folds = 10\n",
    "seed = 7\n",
    "scoring = 'accuracy'\n",
    "y_train_tfidf = df['label'].tolist()"
   ]
  },
  {
   "cell_type": "code",
   "execution_count": 152,
   "metadata": {},
   "outputs": [
    {
     "name": "stdout",
     "output_type": "stream",
     "text": [
      "RF: 0.6479464882943143 0.16717897777493995\n",
      "ET: 0.6586153846153846 0.16807097527077097\n"
     ]
    }
   ],
   "source": [
    "for name, model in ensembles:\n",
    "    kfold = KFold(n_splits=num_folds, random_state=seed)\n",
    "    # Cross Validation with 10 kfolds to check for signs of overfitting\n",
    "    cv_results = cross_val_score(model, X_train_tfidf , y_train_tfidf, cv=kfold, scoring=scoring, error_score='raise')\n",
    "    print(\"{}: {} {}\".format(name, cv_results.mean(), cv_results.std()))"
   ]
  },
  {
   "cell_type": "markdown",
   "metadata": {},
   "source": [
    "Splitting the data and going with the RandomForestClassifier"
   ]
  },
  {
   "cell_type": "code",
   "execution_count": 179,
   "metadata": {},
   "outputs": [],
   "source": [
    "X_train, X_test, y_train, y_test = train_test_split(X_train_tfidf, y_train_tfidf, test_size=0.3)"
   ]
  },
  {
   "cell_type": "markdown",
   "metadata": {},
   "source": [
    "### Evaluation"
   ]
  },
  {
   "cell_type": "code",
   "execution_count": 180,
   "metadata": {},
   "outputs": [],
   "source": [
    "classifier = RandomForestClassifier(n_estimators=100)"
   ]
  },
  {
   "cell_type": "markdown",
   "metadata": {},
   "source": [
    "List of labels"
   ]
  },
  {
   "cell_type": "code",
   "execution_count": 181,
   "metadata": {},
   "outputs": [],
   "source": [
    "labels = list(set(y_train_tfidf))"
   ]
  },
  {
   "cell_type": "code",
   "execution_count": 182,
   "metadata": {},
   "outputs": [
    {
     "name": "stdout",
     "output_type": "stream",
     "text": [
      "accuracy 0.6744444444444444\n",
      "                      precision    recall  f1-score   support\n",
      "\n",
      "            greeting       0.82      0.90      0.86       125\n",
      "dontMeetRequirements       0.62      0.65      0.64       246\n",
      "           whoAreYou       0.91      0.93      0.92        90\n",
      "            location       0.63      0.45      0.53       207\n",
      "       notInterested       0.59      0.68      0.63       232\n",
      "\n",
      "            accuracy                           0.67       900\n",
      "           macro avg       0.72      0.72      0.72       900\n",
      "        weighted avg       0.67      0.67      0.67       900\n",
      "\n",
      "CPU times: user 2.27 s, sys: 196 µs, total: 2.27 s\n",
      "Wall time: 2.27 s\n"
     ]
    }
   ],
   "source": [
    "%%time\n",
    "classifier.fit(X_train, y_train)\n",
    "y_pred = classifier.predict(X_test)\n",
    "\n",
    "print(\"accuracy {}\".format(accuracy_score(y_pred, y_test)))\n",
    "print(classification_report(y_test, y_pred,target_names=labels))"
   ]
  },
  {
   "cell_type": "markdown",
   "metadata": {},
   "source": [
    "From the calculated metrics above, we can conclude that the model is working well on certain labels with scores more around 0.85. But for other labels, we need to eyeball some of the test data and perform error analysis to check on what kind of data, the model is failing to predict. We could do certain feature engineering on that. \n",
    "I would also like to mention, we need to choose the right metric for this model to optimise as well. We need to stick to one metric suitable for the feature for eg., precision,etc and keep on optimising it.\n",
    "Second, after getting the test data, we need to check if the dev test and test data (user data) are from my the same distribution. This helps in building the right model and helps with better performance. \n",
    "Last, have to come up with the satisfying metric for time execution for predicting the classes."
   ]
  },
  {
   "cell_type": "code",
   "execution_count": 183,
   "metadata": {},
   "outputs": [],
   "source": [
    "pkl_filename = \"trained_model.pkl\"\n",
    "with open(pkl_filename, 'wb') as file:\n",
    "    pickle.dump(classifier, file)"
   ]
  },
  {
   "cell_type": "markdown",
   "metadata": {},
   "source": [
    "Saving the Trained Model in the pickle format and restoring it"
   ]
  },
  {
   "cell_type": "code",
   "execution_count": 184,
   "metadata": {},
   "outputs": [],
   "source": [
    "with open(pkl_filename, 'rb') as file:\n",
    "    model = pickle.load(file)"
   ]
  },
  {
   "cell_type": "markdown",
   "metadata": {},
   "source": [
    "Loading the saved tfidf model for prediction"
   ]
  },
  {
   "cell_type": "code",
   "execution_count": 185,
   "metadata": {},
   "outputs": [],
   "source": [
    "tfidf_model = pickle.load(open(\"tfidf.pkl\", 'rb'))"
   ]
  },
  {
   "cell_type": "markdown",
   "metadata": {},
   "source": [
    "**predict_intent** function for predicting intent from the data(dataframe or list of dictionaries)"
   ]
  },
  {
   "cell_type": "code",
   "execution_count": 186,
   "metadata": {},
   "outputs": [],
   "source": [
    "def predict_intent(chat_data):\n",
    "    '''\n",
    "        Function supports two kind of data and returns an array of predictions\n",
    "        chat_data: (list of dictionaries and a dataframe)\n",
    "        Starts with preprocessing the text data and replacing it with key tokens\n",
    "        Gets the tfidf score on the saved tfidf model vocab\n",
    "        Returns an array of predictions\n",
    "    '''\n",
    "    if isinstance(chat_data, list):\n",
    "        dataframe = pd.DataFrame(chat_data)\n",
    "    else:\n",
    "        dataframe = chat_data.copy()\n",
    "    dataframe['data'] = dataframe['data'].apply(preprocess_text)\n",
    "    dataframe['data'] = dataframe['data'].apply(replace_text)\n",
    "    text_data = np.array(dataframe['data'])\n",
    "    tf_vec = TfidfVectorizer(ngram_range=(1,2),vocabulary = tfidf_model.vocabulary_)\n",
    "    tfidf_data = tf_vec.fit_transform(text_data).toarray()\n",
    "    vocab = tf_vec.get_feature_names()\n",
    "    x_test_tfidf = pd.DataFrame(np.round(tfidf_data, 2), columns=vocab)\n",
    "    x_test = x_test_tfidf.join(dataframe['message_order'])\n",
    "    predictions = model.predict(x_test)\n",
    "    return predictions"
   ]
  },
  {
   "cell_type": "code",
   "execution_count": 187,
   "metadata": {},
   "outputs": [],
   "source": [
    "test_dict = [{'data': 'Hi', 'message_order': 1},\n",
    "             {'data': 'Good Morning', 'message_order': 2},\n",
    "             {'data': 'Kidar jaana hai', 'message_order': 4},\n",
    "             {'data': 'Dont have a license', 'message_order': 3}]"
   ]
  },
  {
   "cell_type": "code",
   "execution_count": 188,
   "metadata": {},
   "outputs": [
    {
     "data": {
      "text/plain": [
       "array(['greeting', 'greeting', 'whoAreYou', 'dontMeetRequirements'],\n",
       "      dtype='<U20')"
      ]
     },
     "execution_count": 188,
     "metadata": {},
     "output_type": "execute_result"
    }
   ],
   "source": [
    "test_df = pd.DataFrame(test_dict)\n",
    "predict_intent(test_df)"
   ]
  },
  {
   "cell_type": "code",
   "execution_count": 189,
   "metadata": {},
   "outputs": [
    {
     "data": {
      "text/plain": [
       "array(['greeting', 'greeting', 'whoAreYou', 'dontMeetRequirements'],\n",
       "      dtype='<U20')"
      ]
     },
     "execution_count": 189,
     "metadata": {},
     "output_type": "execute_result"
    }
   ],
   "source": [
    "predict_intent(test_dict)"
   ]
  },
  {
   "cell_type": "markdown",
   "metadata": {},
   "source": [
    "### Future Scope\n",
    "\n",
    "[ ] - Try Semantic Hashing for features extraction (https://arxiv.org/pdf/1810.07150.pdf)\n",
    "\n",
    "[ ] - Work on optimizing a single metric\n",
    "\n",
    "[ ] - Eyeball the dev test where certain labels are wrongly predicted for better error analysis\n",
    "\n",
    "[ ] - Using synonyms for data augmentation\n",
    "\n",
    "[ ] - Impactful Hyperparamter Tuning for the models"
   ]
  },
  {
   "cell_type": "code",
   "execution_count": null,
   "metadata": {},
   "outputs": [],
   "source": []
  }
 ],
 "metadata": {
  "kernelspec": {
   "display_name": "Python 3",
   "language": "python",
   "name": "python3"
  },
  "language_info": {
   "codemirror_mode": {
    "name": "ipython",
    "version": 3
   },
   "file_extension": ".py",
   "mimetype": "text/x-python",
   "name": "python",
   "nbconvert_exporter": "python",
   "pygments_lexer": "ipython3",
   "version": "3.6.8"
  }
 },
 "nbformat": 4,
 "nbformat_minor": 4
}
